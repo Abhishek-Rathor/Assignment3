{
 "cells": [
  {
   "cell_type": "code",
   "execution_count": null,
   "id": "2dea9e3a-a38b-4553-91d3-cff268953ddb",
   "metadata": {},
   "outputs": [],
   "source": [
    "Q1. Explain Class and Object with respect to Object-Oriented Programming. Give a suitable example."
   ]
  },
  {
   "cell_type": "code",
   "execution_count": null,
   "id": "5fdd2240-1f47-4e43-8231-66d68faa9c21",
   "metadata": {},
   "outputs": [],
   "source": [
    "Ans. Class is a clasification of real world entity. That clasify real world entity and \n",
    "objects are instance of class \n",
    "\n",
    "Exampme :- Bike is a \"Class\" and there are two bikes bike1 and bike2 that shows the colour,\n",
    "           means bike1 and bike2 are \"objects\""
   ]
  },
  {
   "cell_type": "code",
   "execution_count": null,
   "id": "0259974f-722e-4bca-a6c8-39254327acdf",
   "metadata": {},
   "outputs": [],
   "source": [
    "Q2. Name the four pillars of OOPs."
   ]
  },
  {
   "cell_type": "code",
   "execution_count": null,
   "id": "4c59755e-61ba-4b15-9dc5-8950cc4dc7f9",
   "metadata": {},
   "outputs": [],
   "source": [
    "Ans. Four pillars of Oops are:-\n",
    "     (1). Abstraction\n",
    "    (2). Encapsulation\n",
    "    (3). Inheritence\n",
    "    (4). Polymorphism"
   ]
  },
  {
   "cell_type": "code",
   "execution_count": null,
   "id": "3a8db267-eee6-4503-bcbe-2256f3da3c9d",
   "metadata": {},
   "outputs": [],
   "source": [
    "Q3. Explain why the __init__() function is used. Give a suitable example."
   ]
  },
  {
   "cell_type": "code",
   "execution_count": null,
   "id": "923d9437-98bb-4f34-af62-633ed041f547",
   "metadata": {},
   "outputs": [],
   "source": [
    "Ans. __init__() function is reserve keyword in the python it is used to initialize the function of class \n",
    "it work with in class"
   ]
  },
  {
   "cell_type": "code",
   "execution_count": 14,
   "id": "f88703b3-92f8-4fbc-82ac-0710db1bf58a",
   "metadata": {},
   "outputs": [],
   "source": [
    "class CSE :\n",
    "    \n",
    "    \n",
    "    def __init__(Abhi , phone_number , email_id , student_id):\n",
    "        Abhi.phone_number = phone_number\n",
    "        Abhi.email_id = email_id\n",
    "        Abhi.student_id = student_id\n",
    "        \n",
    "    def return_student_deetials(Abhi) :\n",
    "            return Abhi.student_id , Abhi.phone_number , Abhi.email_id"
   ]
  },
  {
   "cell_type": "code",
   "execution_count": 15,
   "id": "b8412dc4-04f1-4de5-9105-1688ab10a277",
   "metadata": {},
   "outputs": [],
   "source": [
    "Abhishek = CSE(6266494092, \"abhirathor9977@gmail.com\", 211011)"
   ]
  },
  {
   "cell_type": "code",
   "execution_count": 16,
   "id": "00ff5f22-5c21-42e6-85fc-a0c6e4281f05",
   "metadata": {},
   "outputs": [
    {
     "data": {
      "text/plain": [
       "(211011, 6266494092, 'abhirathor9977@gmail.com')"
      ]
     },
     "execution_count": 16,
     "metadata": {},
     "output_type": "execute_result"
    }
   ],
   "source": [
    "Abhishek.return_student_deetials()"
   ]
  },
  {
   "cell_type": "code",
   "execution_count": null,
   "id": "5b574d38-1438-48ef-a7a7-18ee06186250",
   "metadata": {},
   "outputs": [],
   "source": [
    "Q4. Why self is used in OOPs?"
   ]
  },
  {
   "cell_type": "code",
   "execution_count": null,
   "id": "9b2c23ae-25dd-42bf-8fc6-b01384af48f8",
   "metadata": {},
   "outputs": [],
   "source": [
    "Ans. wirhout using self keywrd we can not print the values , \n",
    "because it shows to print the data that is inside the class , \n",
    "but self is not a reserve a keyword we can use different words in the place of\n",
    "self.\n",
    "     "
   ]
  },
  {
   "cell_type": "code",
   "execution_count": null,
   "id": "fd46c71a-b47b-4aac-b886-4837aa4688c2",
   "metadata": {},
   "outputs": [],
   "source": [
    "Q5. What is inheritance? Give an example for each type of inheritance."
   ]
  },
  {
   "cell_type": "code",
   "execution_count": null,
   "id": "b70aae95-bb9c-4f64-85ec-7d2d3b9c225e",
   "metadata": {},
   "outputs": [],
   "source": [
    "Ans. In inheritence there are child class and parent class , \n",
    "in child class can access some properties of parent class that is called inheritence \n",
    "\n",
    "Types of inheritence :-\n",
    "\n",
    "1. Single inheritence\n",
    "2. multiple inheritence\n",
    "3. multilevel inheritence\n",
    "4. hybrid inheritence\n",
    "5. hierarchical inheritence"
   ]
  }
 ],
 "metadata": {
  "kernelspec": {
   "display_name": "Python 3 (ipykernel)",
   "language": "python",
   "name": "python3"
  },
  "language_info": {
   "codemirror_mode": {
    "name": "ipython",
    "version": 3
   },
   "file_extension": ".py",
   "mimetype": "text/x-python",
   "name": "python",
   "nbconvert_exporter": "python",
   "pygments_lexer": "ipython3",
   "version": "3.10.8"
  }
 },
 "nbformat": 4,
 "nbformat_minor": 5
}
